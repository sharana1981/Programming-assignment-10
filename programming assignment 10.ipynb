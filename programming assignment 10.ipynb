{
 "cells": [
  {
   "cell_type": "markdown",
   "id": "03a0738f",
   "metadata": {},
   "source": [
    "# programming assignment 10"
   ]
  },
  {
   "cell_type": "raw",
   "id": "0c26957d",
   "metadata": {},
   "source": [
    "1)Write a Python program to find sum of elements in list?"
   ]
  },
  {
   "cell_type": "code",
   "execution_count": 1,
   "id": "0652e9a6",
   "metadata": {},
   "outputs": [
    {
     "name": "stdout",
     "output_type": "stream",
     "text": [
      "30\n"
     ]
    }
   ],
   "source": [
    "l=[1,2,3,4,5,6,4,3,2]\n",
    "sum=0\n",
    "for i in l:\n",
    "    sum+=i\n",
    "print(sum)"
   ]
  },
  {
   "cell_type": "raw",
   "id": "e8b65e2a",
   "metadata": {},
   "source": [
    "2)Write a Python program to Multiply all numbers in the list?"
   ]
  },
  {
   "cell_type": "code",
   "execution_count": 3,
   "id": "9ee1f501",
   "metadata": {},
   "outputs": [
    {
     "name": "stdout",
     "output_type": "stream",
     "text": [
      "17280\n"
     ]
    }
   ],
   "source": [
    "l=[1,2,3,4,5,6,4,3,2]\n",
    "sum=1\n",
    "for i in l:\n",
    "    sum*=i\n",
    "print(sum)"
   ]
  },
  {
   "cell_type": "raw",
   "id": "c3d2d4de",
   "metadata": {},
   "source": [
    "3)Write a Python program to find smallest number in a list?"
   ]
  },
  {
   "cell_type": "code",
   "execution_count": 8,
   "id": "861a2db4",
   "metadata": {},
   "outputs": [
    {
     "name": "stdout",
     "output_type": "stream",
     "text": [
      "0\n"
     ]
    }
   ],
   "source": [
    "l=[10,2,3,4,5,6,4,3,2,0]\n",
    "for i in range(0,len(l)):\n",
    "    for j in range(0,i):\n",
    "        if l[i]<l[j]:\n",
    "            l[i],l[j]=l[j],l[i]\n",
    "print(l[0])"
   ]
  },
  {
   "cell_type": "raw",
   "id": "91bd87d9",
   "metadata": {},
   "source": [
    "4)Write a Python program to find largest number in a list?"
   ]
  },
  {
   "cell_type": "code",
   "execution_count": 9,
   "id": "5a45d965",
   "metadata": {},
   "outputs": [
    {
     "name": "stdout",
     "output_type": "stream",
     "text": [
      "10\n"
     ]
    }
   ],
   "source": [
    "for i in range(0,len(l)):\n",
    "    for j in range(0,i):\n",
    "        if l[i]>l[j]:\n",
    "            l[i],l[j]=l[j],l[i]\n",
    "print(l[0])"
   ]
  },
  {
   "cell_type": "raw",
   "id": "03a190e0",
   "metadata": {},
   "source": [
    "5)Write a Python program to find second largest number in a list?"
   ]
  },
  {
   "cell_type": "code",
   "execution_count": 10,
   "id": "4438a1d3",
   "metadata": {},
   "outputs": [
    {
     "name": "stdout",
     "output_type": "stream",
     "text": [
      "6\n"
     ]
    }
   ],
   "source": [
    "l=[10,2,3,4,5,6,4,3,2,0]\n",
    "for i in range(0,len(l)):\n",
    "    for j in range(0,i):\n",
    "        if l[i]>l[j]:\n",
    "            l[i],l[j]=l[j],l[i]\n",
    "print(l[1])"
   ]
  },
  {
   "cell_type": "raw",
   "id": "2e7e78fb",
   "metadata": {},
   "source": [
    "6)Write a Python program to find N largest elements from a list?"
   ]
  },
  {
   "cell_type": "code",
   "execution_count": 12,
   "id": "6aa7e33f",
   "metadata": {},
   "outputs": [
    {
     "name": "stdout",
     "output_type": "stream",
     "text": [
      "enter the value of n:2\n",
      "6\n"
     ]
    }
   ],
   "source": [
    "l=[10,2,3,4,5,6,4,3,2,0]\n",
    "n=int(input(\"enter the value of n:\"))\n",
    "for i in range(0,len(l)):\n",
    "    for j in range(0,i):\n",
    "        if l[i]>l[j]:\n",
    "            l[i],l[j]=l[j],l[i]\n",
    "print(l[n-1])"
   ]
  },
  {
   "cell_type": "raw",
   "id": "9d3f2d44",
   "metadata": {},
   "source": [
    "7)Write a Python program to print even numbers in a list?"
   ]
  },
  {
   "cell_type": "code",
   "execution_count": 13,
   "id": "dd446985",
   "metadata": {},
   "outputs": [
    {
     "name": "stdout",
     "output_type": "stream",
     "text": [
      "10\n",
      "2\n",
      "4\n",
      "6\n",
      "4\n",
      "2\n",
      "0\n"
     ]
    }
   ],
   "source": [
    "l=[10,2,3,4,5,6,4,3,2,0]\n",
    "for i in l:\n",
    "    if i%2==0:\n",
    "        print(i)"
   ]
  },
  {
   "cell_type": "raw",
   "id": "9d08a161",
   "metadata": {},
   "source": [
    "8)Write a Python program to print odd numbers in a List?"
   ]
  },
  {
   "cell_type": "code",
   "execution_count": 14,
   "id": "1a55c09e",
   "metadata": {},
   "outputs": [
    {
     "name": "stdout",
     "output_type": "stream",
     "text": [
      "3\n",
      "5\n",
      "3\n"
     ]
    }
   ],
   "source": [
    "l=[10,2,3,4,5,6,4,3,2,0]\n",
    "for i in l:\n",
    "    if i%2!=0:\n",
    "        print(i)"
   ]
  },
  {
   "cell_type": "raw",
   "id": "7ecdf0f9",
   "metadata": {},
   "source": [
    "9)Write a Python program to Remove empty List from List?"
   ]
  },
  {
   "cell_type": "code",
   "execution_count": 15,
   "id": "b33435aa",
   "metadata": {},
   "outputs": [
    {
     "name": "stdout",
     "output_type": "stream",
     "text": [
      "[[1, 2], [6, 6], ['shd', 'jdh'], [7.7, 'J']]\n"
     ]
    }
   ],
   "source": [
    "l=[[1,2],[6,6],[\"shd\",'jdh'],[],[7.7,'J']]\n",
    "for i in l:\n",
    "    if len(i)==0:\n",
    "        l.remove(i)\n",
    "print(l)"
   ]
  },
  {
   "cell_type": "raw",
   "id": "d3b39dd4",
   "metadata": {},
   "source": [
    "10)Write a Python program to Cloning or Copying a list?"
   ]
  },
  {
   "cell_type": "code",
   "execution_count": 16,
   "id": "6b823d6f",
   "metadata": {},
   "outputs": [
    {
     "name": "stdout",
     "output_type": "stream",
     "text": [
      "[[1, 2], [6, 6], ['shd', 'jdh'], [], [7.7, 'J']]\n"
     ]
    }
   ],
   "source": [
    "l=[[1,2],[6,6],[\"shd\",'jdh'],[],[7.7,'J']]\n",
    "k=l\n",
    "print(k)"
   ]
  },
  {
   "cell_type": "raw",
   "id": "7002188d",
   "metadata": {},
   "source": [
    "11)Write a Python program to Count occurrences of an element in a list?"
   ]
  },
  {
   "cell_type": "code",
   "execution_count": 20,
   "id": "70383354",
   "metadata": {},
   "outputs": [
    {
     "name": "stdout",
     "output_type": "stream",
     "text": [
      "enter the elemeent you want to find:6\n",
      "1\n"
     ]
    }
   ],
   "source": [
    "l=l=[10,2,3,4,5,6,4,3,2,0]\n",
    "n=int(input(\"enter the elemeent you want to find:\"))\n",
    "print(l.count(n))"
   ]
  },
  {
   "cell_type": "code",
   "execution_count": null,
   "id": "a64429b5",
   "metadata": {},
   "outputs": [],
   "source": []
  }
 ],
 "metadata": {
  "kernelspec": {
   "display_name": "Python 3 (ipykernel)",
   "language": "python",
   "name": "python3"
  },
  "language_info": {
   "codemirror_mode": {
    "name": "ipython",
    "version": 3
   },
   "file_extension": ".py",
   "mimetype": "text/x-python",
   "name": "python",
   "nbconvert_exporter": "python",
   "pygments_lexer": "ipython3",
   "version": "3.9.12"
  }
 },
 "nbformat": 4,
 "nbformat_minor": 5
}
